{
 "cells": [
  {
   "cell_type": "markdown",
   "id": "4f605d43",
   "metadata": {},
   "source": [
    "# Python Looping"
   ]
  },
  {
   "cell_type": "markdown",
   "id": "1be120ca",
   "metadata": {},
   "source": [
    "## 1. For Loop"
   ]
  },
  {
   "cell_type": "code",
   "execution_count": 2,
   "id": "5b5f7ff1",
   "metadata": {},
   "outputs": [
    {
     "name": "stdout",
     "output_type": "stream",
     "text": [
      "['Pisang', 'Anggur', 'Strawberry', 'Apel']\n"
     ]
    }
   ],
   "source": [
    "# bikin sequence\n",
    "fruits = [\"Pisang\",\"Anggur\",\"Strawberry\",\"Apel\"]\n",
    "print(fruits)"
   ]
  },
  {
   "cell_type": "code",
   "execution_count": 3,
   "id": "46cf349c",
   "metadata": {},
   "outputs": [
    {
     "name": "stdout",
     "output_type": "stream",
     "text": [
      "Nama Buah: Pisang\n",
      "Nama Buah: Anggur\n",
      "Nama Buah: Strawberry\n",
      "Nama Buah: Apel\n"
     ]
    }
   ],
   "source": [
    "#Do For Loop\n",
    "for x in fruits:\n",
    "    print(f\"Nama Buah: {x}\")"
   ]
  },
  {
   "cell_type": "markdown",
   "id": "ae131f78",
   "metadata": {},
   "source": [
    "### Range Method"
   ]
  },
  {
   "cell_type": "code",
   "execution_count": null,
   "id": "b5c63da0",
   "metadata": {},
   "outputs": [],
   "source": [
    "himpunan = range(10)"
   ]
  },
  {
   "cell_type": "code",
   "execution_count": 8,
   "id": "2453111f",
   "metadata": {},
   "outputs": [
    {
     "name": "stdout",
     "output_type": "stream",
     "text": [
      "Bilangan Ke-0\n",
      "Bilangan Ke-1\n",
      "Bilangan Ke-2\n",
      "Bilangan Ke-3\n",
      "Bilangan Ke-4\n",
      "Bilangan Ke-5\n",
      "Bilangan Ke-6\n",
      "Bilangan Ke-7\n",
      "Bilangan Ke-8\n",
      "Bilangan Ke-9\n"
     ]
    }
   ],
   "source": [
    "for i in himpunan:\n",
    "    print(f\"Bilangan Ke-{i}\")"
   ]
  },
  {
   "cell_type": "code",
   "execution_count": 12,
   "id": "3a19ca73",
   "metadata": {},
   "outputs": [
    {
     "name": "stdout",
     "output_type": "stream",
     "text": [
      "range(1, 11)\n"
     ]
    }
   ],
   "source": [
    "bilangan = range(1,11)\n",
    "print(bilangan)"
   ]
  },
  {
   "cell_type": "code",
   "execution_count": 13,
   "id": "b5e7d155",
   "metadata": {},
   "outputs": [
    {
     "name": "stdout",
     "output_type": "stream",
     "text": [
      "Bilangan Ke-1\n",
      "Bilangan Ke-2\n",
      "Bilangan Ke-3\n",
      "Bilangan Ke-4\n",
      "Bilangan Ke-5\n",
      "Bilangan Ke-6\n",
      "Bilangan Ke-7\n",
      "Bilangan Ke-8\n",
      "Bilangan Ke-9\n",
      "Bilangan Ke-10\n"
     ]
    }
   ],
   "source": [
    "for t in bilangan:\n",
    "    print(f\"Bilangan Ke-{t}\")"
   ]
  },
  {
   "cell_type": "code",
   "execution_count": 20,
   "id": "0284bac5",
   "metadata": {},
   "outputs": [
    {
     "name": "stdout",
     "output_type": "stream",
     "text": [
      "range(2, 50, 4)\n"
     ]
    }
   ],
   "source": [
    "number = range(2,50,4)\n",
    "print(number)"
   ]
  },
  {
   "cell_type": "code",
   "execution_count": 21,
   "id": "ec88b40d",
   "metadata": {},
   "outputs": [
    {
     "name": "stdout",
     "output_type": "stream",
     "text": [
      "Angka ke-2\n",
      "Angka ke-6\n",
      "Angka ke-10\n",
      "Angka ke-14\n",
      "Angka ke-18\n",
      "Angka ke-22\n",
      "Angka ke-26\n",
      "Angka ke-30\n",
      "Angka ke-34\n",
      "Angka ke-38\n",
      "Angka ke-42\n",
      "Angka ke-46\n"
     ]
    }
   ],
   "source": [
    "for y in number:\n",
    "    print(f\"Angka ke-{y}\")"
   ]
  },
  {
   "cell_type": "markdown",
   "id": "ce4ab127",
   "metadata": {},
   "source": [
    "## 2.While Loop"
   ]
  },
  {
   "cell_type": "code",
   "execution_count": null,
   "id": "404a3484",
   "metadata": {},
   "outputs": [],
   "source": [
    "i = 1"
   ]
  },
  {
   "cell_type": "code",
   "execution_count": 24,
   "id": "bab06e9d",
   "metadata": {},
   "outputs": [
    {
     "name": "stdout",
     "output_type": "stream",
     "text": [
      "1\n",
      "2\n",
      "3\n",
      "4\n",
      "5\n",
      "6\n",
      "7\n",
      "8\n",
      "9\n",
      "10\n",
      "11\n"
     ]
    }
   ],
   "source": [
    "while i<12:\n",
    "    print(i)\n",
    "    i += 1"
   ]
  },
  {
   "cell_type": "markdown",
   "id": "061574ef",
   "metadata": {},
   "source": [
    "### Continue"
   ]
  },
  {
   "cell_type": "code",
   "execution_count": 33,
   "id": "da14933e",
   "metadata": {},
   "outputs": [
    {
     "name": "stdout",
     "output_type": "stream",
     "text": [
      "range(0, 30)\n"
     ]
    }
   ],
   "source": [
    "bil = range(30)\n",
    "print(bil)"
   ]
  },
  {
   "cell_type": "code",
   "execution_count": 59,
   "id": "a510a159",
   "metadata": {},
   "outputs": [
    {
     "name": "stdout",
     "output_type": "stream",
     "text": [
      "0\n",
      "1\n",
      "2\n",
      "3\n",
      "4\n",
      "5\n",
      "6\n",
      "7\n",
      "8\n",
      "9\n",
      "10\n",
      "11\n",
      "12\n",
      "13\n",
      "14\n",
      "15\n",
      "16\n",
      "17\n",
      "18\n",
      "19\n",
      "20\n",
      "21\n",
      "22\n",
      "23\n",
      "24\n",
      "25\n",
      "26\n",
      "27\n",
      "28\n",
      "29\n"
     ]
    }
   ],
   "source": [
    "for s in bil:\n",
    "    if s % 2 == 1:\n",
    "        continue\n",
    "    print(s)"
   ]
  },
  {
   "cell_type": "code",
   "execution_count": 49,
   "id": "ac967f6b",
   "metadata": {},
   "outputs": [
    {
     "name": "stdout",
     "output_type": "stream",
     "text": [
      "0\n",
      "1\n",
      "2\n",
      "4\n"
     ]
    }
   ],
   "source": [
    "for i in range(5):\n",
    "  if i == 3:\n",
    "    continue\n",
    "  print(i)\n"
   ]
  },
  {
   "cell_type": "markdown",
   "id": "8f39caa0",
   "metadata": {},
   "source": [
    "## Break"
   ]
  },
  {
   "cell_type": "code",
   "execution_count": 61,
   "id": "b000922c",
   "metadata": {},
   "outputs": [
    {
     "name": "stdout",
     "output_type": "stream",
     "text": [
      "0\n",
      "1\n",
      "2\n"
     ]
    }
   ],
   "source": [
    "for j in range(5):\n",
    "      if j == 3:\n",
    "            break\n",
    "      print(j)\n"
   ]
  },
  {
   "cell_type": "code",
   "execution_count": 69,
   "id": "7fe6da3b",
   "metadata": {},
   "outputs": [
    {
     "name": "stdout",
     "output_type": "stream",
     "text": [
      "Masukan bilangan yang ingin dicari: 21\n",
      "Kamu akan mencari bilangan 21, Tunggu yah\n",
      "Mencari..\n",
      "Mencari..\n",
      "Mencari..\n",
      "Mencari..\n",
      "Mencari..\n",
      "Mencari..\n",
      "Mencari..\n",
      "Mencari..\n",
      "Mencari..\n",
      "Mencari..\n",
      "Mencari..\n",
      "Mencari..\n",
      "Mencari..\n",
      "Mencari..\n",
      "Mencari..\n",
      "Mencari..\n",
      "Mencari..\n",
      "Mencari..\n",
      "Mencari..\n",
      "Mencari..\n",
      "Mencari..\n",
      "Mencari..\n",
      "Selamat, bilangan 21 berhasil ditemukan\n"
     ]
    }
   ],
   "source": [
    "input_bil = int(input(\"Masukan bilangan yang ingin dicari: \"))\n",
    "print(f\"Kamu akan mencari bilangan {input_bil}, Tunggu yah\")\n",
    "for g in bil:\n",
    "    print(\"Mencari..\")\n",
    "    if g == input_bil:\n",
    "        print(f\"Selamat, bilangan {g} berhasil ditemukan\")\n",
    "        break"
   ]
  },
  {
   "cell_type": "code",
   "execution_count": 72,
   "id": "4e4bb0ce",
   "metadata": {},
   "outputs": [
    {
     "name": "stdout",
     "output_type": "stream",
     "text": [
      "Masukan bilangan yang ingin dicari: 21\n",
      "Kamu akan mencari bilangan 21, Tunggu yah\n",
      "Selamat, bilangan 21 berhasil ditemukan\n"
     ]
    }
   ],
   "source": [
    "input_bil = int(input(\"Masukan bilangan yang ingin dicari: \"))\n",
    "print(f\"Kamu akan mencari bilangan {input_bil}, Tunggu yah\")\n",
    "for g in bil:\n",
    "    if g == input_bil:\n",
    "        print(f\"Selamat, bilangan {g} berhasil ditemukan\")"
   ]
  },
  {
   "cell_type": "markdown",
   "id": "85568450",
   "metadata": {},
   "source": [
    "## Nested Loop"
   ]
  },
  {
   "cell_type": "code",
   "execution_count": 63,
   "id": "edbe696e",
   "metadata": {},
   "outputs": [
    {
     "name": "stdout",
     "output_type": "stream",
     "text": [
      "p:0,e:0 p:0,e:1 p:0,e:2 \n",
      "p:1,e:0 p:1,e:1 p:1,e:2 \n"
     ]
    }
   ],
   "source": [
    "for p in range(2):\n",
    "      for e in range(3):\n",
    "            print(\"p:{},e:{}\".format(p,e) ,end=\" \")\n",
    "      print()\n"
   ]
  },
  {
   "cell_type": "code",
   "execution_count": 2,
   "id": "85a97b3e",
   "metadata": {},
   "outputs": [
    {
     "name": "stdout",
     "output_type": "stream",
     "text": [
      "u:0,v:0\n",
      "u:0,v:1\n",
      "u:0,v:2\n",
      "\n",
      "u:1,v:0\n",
      "u:1,v:1\n",
      "u:1,v:2\n",
      "\n"
     ]
    }
   ],
   "source": [
    "for u in range(2):\n",
    "      for v in range(3):\n",
    "            print(f\"u:{u},v:{v}\")\n",
    "      print() #ngasih jarak kosong"
   ]
  },
  {
   "cell_type": "markdown",
   "id": "826b035c",
   "metadata": {},
   "source": [
    "### Didalam list ada nested list"
   ]
  },
  {
   "cell_type": "code",
   "execution_count": null,
   "id": "b49873fa",
   "metadata": {},
   "outputs": [],
   "source": [
    "li = [\n",
    "    [\"Iqbal\",\"Rima\",\"Budi\",\"Irma\"],\n",
    "    [\"Jakarta\",\"Bekasi\",\"Karawang\",\"Cikarang\"]\n",
    "]\n",
    "\n",
    "for y in li:\n",
    "    print(y)"
   ]
  },
  {
   "cell_type": "code",
   "execution_count": null,
   "id": "17b91a09",
   "metadata": {},
   "outputs": [],
   "source": [
    "for y in li:\n",
    "    for h in y:\n",
    "        print(f\"Hasil: {y}\")\n",
    "    print()"
   ]
  },
  {
   "cell_type": "markdown",
   "id": "920d41a8",
   "metadata": {},
   "source": [
    "## QUIZ1"
   ]
  },
  {
   "cell_type": "code",
   "execution_count": null,
   "id": "d50b44d0",
   "metadata": {},
   "outputs": [],
   "source": [
    "jumlah = int(input(\"masukan jumlah nama yang mau dimasukan: \"))\n",
    "print(f\"jumlah nama, {jumlah} !\")\n",
    "k = 1\n",
    "h = 1\n",
    "nama = []\n",
    "while k <= jumlah:\n",
    "    nama.append(input(f\"Masukan nama ke-{k}: \"))\n",
    "    k += 1  \n",
    "while h < k:\n",
    "    for l in nama:\n",
    "        print(f\"Nama ke-{h} adalah: {l}\")\n",
    "        h += 1"
   ]
  },
  {
   "cell_type": "markdown",
   "id": "241c85f6",
   "metadata": {},
   "source": [
    "## Quiz 2"
   ]
  },
  {
   "cell_type": "code",
   "execution_count": null,
   "id": "f81a23cf",
   "metadata": {},
   "outputs": [],
   "source": []
  },
  {
   "cell_type": "code",
   "execution_count": null,
   "id": "437d56f4",
   "metadata": {},
   "outputs": [],
   "source": []
  },
  {
   "cell_type": "code",
   "execution_count": null,
   "id": "6921464c",
   "metadata": {},
   "outputs": [],
   "source": []
  },
  {
   "cell_type": "code",
   "execution_count": null,
   "id": "eed4bb14",
   "metadata": {},
   "outputs": [],
   "source": []
  },
  {
   "cell_type": "code",
   "execution_count": null,
   "id": "98b30519",
   "metadata": {},
   "outputs": [],
   "source": []
  },
  {
   "cell_type": "code",
   "execution_count": null,
   "id": "aaa01535",
   "metadata": {},
   "outputs": [],
   "source": []
  },
  {
   "cell_type": "code",
   "execution_count": null,
   "id": "c22321e6",
   "metadata": {},
   "outputs": [],
   "source": []
  },
  {
   "cell_type": "code",
   "execution_count": null,
   "id": "b41124a0",
   "metadata": {},
   "outputs": [],
   "source": []
  }
 ],
 "metadata": {
  "kernelspec": {
   "display_name": "Python 3 (ipykernel)",
   "language": "python",
   "name": "python3"
  },
  "language_info": {
   "codemirror_mode": {
    "name": "ipython",
    "version": 3
   },
   "file_extension": ".py",
   "mimetype": "text/x-python",
   "name": "python",
   "nbconvert_exporter": "python",
   "pygments_lexer": "ipython3",
   "version": "3.10.4"
  }
 },
 "nbformat": 4,
 "nbformat_minor": 5
}
